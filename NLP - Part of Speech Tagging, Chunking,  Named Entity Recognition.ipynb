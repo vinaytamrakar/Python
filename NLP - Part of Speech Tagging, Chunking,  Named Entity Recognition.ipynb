{
 "cells": [
  {
   "cell_type": "markdown",
   "id": "8eb59d91",
   "metadata": {},
   "source": [
    "## Part of Speech Tagging | Chunking | Named Entity Recognition"
   ]
  },
  {
   "cell_type": "code",
   "execution_count": 1,
   "id": "6004e6a2",
   "metadata": {},
   "outputs": [
    {
     "name": "stdout",
     "output_type": "stream",
     "text": [
      "showing info https://raw.githubusercontent.com/nltk/nltk_data/gh-pages/index.xml\n"
     ]
    },
    {
     "data": {
      "text/plain": [
       "True"
      ]
     },
     "execution_count": 1,
     "metadata": {},
     "output_type": "execute_result"
    }
   ],
   "source": [
    "# import the necessary libraries\n",
    "import nltk\n",
    "import string\n",
    "import re\n",
    "nltk.download()"
   ]
  },
  {
   "cell_type": "markdown",
   "id": "84f86483",
   "metadata": {},
   "source": [
    "###### Part of Speech Tagging:\n",
    "The part of speech explains how a word is used in a sentence. In a sentence, a word can have different\n",
    "contexts and semantic meanings. The basic natural language processing models like bag-of-words fail to\n",
    "identify these relations between words. Hence, we use part of speech tagging to mark a word to its part\n",
    "of speech tag based on its context in the data. It is also used to extract relationships between words.\n"
   ]
  },
  {
   "cell_type": "code",
   "execution_count": 2,
   "id": "00eb0bd6",
   "metadata": {},
   "outputs": [
    {
     "data": {
      "text/plain": [
       "[('You', 'PRP'),\n",
       " ('just', 'RB'),\n",
       " ('gave', 'VBD'),\n",
       " ('me', 'PRP'),\n",
       " ('a', 'DT'),\n",
       " ('scare', 'NN')]"
      ]
     },
     "execution_count": 2,
     "metadata": {},
     "output_type": "execute_result"
    }
   ],
   "source": [
    "from nltk.tokenize import word_tokenize\n",
    "from nltk import pos_tag\n",
    "\n",
    "# convert text into word_tokens with their tags\n",
    "def pos_tagging(text):\n",
    "\tword_tokens = word_tokenize(text)\n",
    "\treturn pos_tag(word_tokens)\n",
    "\n",
    "pos_tagging('You just gave me a scare')"
   ]
  },
  {
   "cell_type": "code",
   "execution_count": 3,
   "id": "84bed5a0",
   "metadata": {},
   "outputs": [
    {
     "name": "stdout",
     "output_type": "stream",
     "text": [
      "NN: noun, common, singular or mass\n",
      "    common-carrier cabbage knuckle-duster Casino afghan shed thermostat\n",
      "    investment slide humour falloff slick wind hyena override subhumanity\n",
      "    machinist ...\n"
     ]
    },
    {
     "name": "stderr",
     "output_type": "stream",
     "text": [
      "[nltk_data] Error loading tagsets: <urlopen error [WinError 10060] A\n",
      "[nltk_data]     connection attempt failed because the connected party\n",
      "[nltk_data]     did not properly respond after a period of time, or\n",
      "[nltk_data]     established connection failed because connected host\n",
      "[nltk_data]     has failed to respond>\n"
     ]
    }
   ],
   "source": [
    "# download the tagset\n",
    "nltk.download('tagsets')\n",
    "\n",
    "# extract information about the tag\n",
    "nltk.help.upenn_tagset('NN')"
   ]
  },
  {
   "cell_type": "markdown",
   "id": "37d3b85f",
   "metadata": {},
   "source": [
    "###### Chunking:\n",
    "Chunking is the process of extracting phrases from unstructured text and more structure to it. It is also known as shallow parsing. It is done on top of Part of Speech tagging. It groups word into “chunks”, mainly of noun phrases. Chunking is done using regular expressions."
   ]
  },
  {
   "cell_type": "code",
   "execution_count": 5,
   "id": "e3297b7b",
   "metadata": {},
   "outputs": [
    {
     "name": "stdout",
     "output_type": "stream",
     "text": [
      "(S\n",
      "  (NP the/DT little/JJ yellow/JJ bird/NN)\n",
      "  is/VBZ\n",
      "  flying/VBG\n",
      "  in/IN\n",
      "  (NP the/DT sky/NN))\n",
      "(NP the/DT little/JJ yellow/JJ bird/NN)\n",
      "(NP the/DT sky/NN)\n"
     ]
    }
   ],
   "source": [
    "from nltk.tokenize import word_tokenize\n",
    "from nltk import pos_tag\n",
    "\n",
    "# define chunking function with text and regular\n",
    "# expression representing grammar as parameter\n",
    "def chunking(text, grammar):\n",
    "\tword_tokens = word_tokenize(text)\n",
    "\n",
    "\t# label words with part of speech\n",
    "\tword_pos = pos_tag(word_tokens)\n",
    "\n",
    "\t# create a chunk parser using grammar\n",
    "\tchunkParser = nltk.RegexpParser(grammar)\n",
    "\n",
    "\t# test it on the list of word tokens with tagged pos\n",
    "\ttree = chunkParser.parse(word_pos)\n",
    "\t\n",
    "\tfor subtree in tree.subtrees():\n",
    "\t\tprint(subtree)\n",
    "\ttree.draw()\n",
    "\t\n",
    "sentence = 'the little yellow bird is flying in the sky'\n",
    "grammar = \"NP: {<DT>?<JJ>*<NN>}\"\n",
    "chunking(sentence, grammar)\n"
   ]
  },
  {
   "cell_type": "markdown",
   "id": "2a98d207",
   "metadata": {},
   "source": [
    "###### Named Entity Recognition:\n",
    "Named Entity Recognition is used to extract information from unstructured text. It is used to classify entities present in a text into categories like a person, organization, event, places, etc. It gives us detailed knowledge about the text and the relationships between the different entities."
   ]
  },
  {
   "cell_type": "code",
   "execution_count": 6,
   "id": "0b1aef1f",
   "metadata": {},
   "outputs": [
    {
     "name": "stdout",
     "output_type": "stream",
     "text": [
      "(S\n",
      "  (PERSON Bill/NNP)\n",
      "  works/VBZ\n",
      "  for/IN\n",
      "  (ORGANIZATION GeeksforGeeks/NNP)\n",
      "  so/RB\n",
      "  he/PRP\n",
      "  went/VBD\n",
      "  to/TO\n",
      "  (GPE Delhi/NNP)\n",
      "  for/IN\n",
      "  a/DT\n",
      "  meetup/NN\n",
      "  ./.)\n"
     ]
    }
   ],
   "source": [
    "from nltk.tokenize import word_tokenize\n",
    "from nltk import pos_tag, ne_chunk\n",
    "\n",
    "def named_entity_recognition(text):\n",
    "\t# tokenize the text\n",
    "\tword_tokens = word_tokenize(text)\n",
    "\n",
    "\t# part of speech tagging of words\n",
    "\tword_pos = pos_tag(word_tokens)\n",
    "\n",
    "\t# tree of word entities\n",
    "\tprint(ne_chunk(word_pos))\n",
    "\n",
    "text = 'Bill works for GeeksforGeeks so he went to Delhi for a meetup.'\n",
    "named_entity_recognition(text)\n"
   ]
  },
  {
   "cell_type": "code",
   "execution_count": null,
   "id": "bab6c5a8",
   "metadata": {},
   "outputs": [],
   "source": []
  }
 ],
 "metadata": {
  "kernelspec": {
   "display_name": "Python 3 (ipykernel)",
   "language": "python",
   "name": "python3"
  },
  "language_info": {
   "codemirror_mode": {
    "name": "ipython",
    "version": 3
   },
   "file_extension": ".py",
   "mimetype": "text/x-python",
   "name": "python",
   "nbconvert_exporter": "python",
   "pygments_lexer": "ipython3",
   "version": "3.9.13"
  }
 },
 "nbformat": 4,
 "nbformat_minor": 5
}
