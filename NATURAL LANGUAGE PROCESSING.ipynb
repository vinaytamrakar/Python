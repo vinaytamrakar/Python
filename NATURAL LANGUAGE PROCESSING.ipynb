{
 "cells": [
  {
   "cell_type": "markdown",
   "id": "b56f40c9",
   "metadata": {},
   "source": [
    "# NATURAL LANGUAGE PROCESSING\n"
   ]
  },
  {
   "cell_type": "code",
   "execution_count": 5,
   "id": "fb9efb24",
   "metadata": {},
   "outputs": [
    {
     "name": "stdout",
     "output_type": "stream",
     "text": [
      "Collecting textblob\n",
      "  Downloading textblob-0.17.1-py2.py3-none-any.whl (636 kB)\n",
      "     -------------------------------------- 636.8/636.8 kB 4.4 MB/s eta 0:00:00\n",
      "Requirement already satisfied: nltk>=3.1 in c:\\users\\admin\\anaconda3\\lib\\site-packages (from textblob) (3.8.1)\n",
      "Requirement already satisfied: click in c:\\users\\admin\\anaconda3\\lib\\site-packages (from nltk>=3.1->textblob) (8.0.4)\n",
      "Requirement already satisfied: joblib in c:\\users\\admin\\anaconda3\\lib\\site-packages (from nltk>=3.1->textblob) (1.1.0)\n",
      "Requirement already satisfied: tqdm in c:\\users\\admin\\anaconda3\\lib\\site-packages (from nltk>=3.1->textblob) (4.64.1)\n",
      "Requirement already satisfied: regex>=2021.8.3 in c:\\users\\admin\\anaconda3\\lib\\site-packages (from nltk>=3.1->textblob) (2022.7.9)\n",
      "Requirement already satisfied: colorama in c:\\users\\admin\\anaconda3\\lib\\site-packages (from click->nltk>=3.1->textblob) (0.4.5)\n",
      "Installing collected packages: textblob\n",
      "Successfully installed textblob-0.17.1\n",
      "Note: you may need to restart the kernel to use updated packages.\n"
     ]
    }
   ],
   "source": [
    "pip install textblob"
   ]
  },
  {
   "cell_type": "code",
   "execution_count": 22,
   "id": "0fd112cd",
   "metadata": {},
   "outputs": [],
   "source": [
    "import nltk\n",
    "\n",
    "#nltk.download('stopwords')\n",
    "#nltk.download(\"punkt\")\n",
    "#nltk.download(\"wordnet\")\n",
    "\n",
    "from nltk.corpus import stopwords\n",
    "from textblob import TextBlob,Word\n",
    "from nltk.stem import PorterStemmer, WordNetLemmatizer\n",
    "from textblob import Word,TextBlob\n",
    "import textblob, string, re\n",
    "import matplotlib.pyplot as plt\n",
    "import pandas as pd\n",
    "import numpy as np\n",
    "\n",
    "from warnings import filterwarnings\n",
    "filterwarnings('ignore')"
   ]
  },
  {
   "cell_type": "code",
   "execution_count": 23,
   "id": "877c609e",
   "metadata": {},
   "outputs": [],
   "source": [
    "# Set the option to display up to 1000 rows\n",
    "pd.set_option('display.max_rows', 1000)\n",
    "\n",
    "# Set the option to display up to 1000 columns\n",
    "pd.set_option('display.max_columns', 1000)\n",
    "\n",
    "# Set the option to display up to 1000 characters width\n",
    "pd.set_option('display.width', 1000)\n",
    "\n",
    "# Set the option to display the full contents of each cell\n",
    "pd.set_option('display.max_colwidth', -1)"
   ]
  },
  {
   "cell_type": "code",
   "execution_count": 24,
   "id": "d56be992",
   "metadata": {},
   "outputs": [],
   "source": [
    "text = \"\"\"\n",
    "Chris Stark, head of the UK's Climate Change Committee, told the BBC he rates government policy on insulation as \"very poor\".\n",
    "Insulation, together with renewable power, is the way out of the current energy crisis, he says.\n",
    "Two-thirds of homes, or 19 million, need better insulation, according to government data.\n",
    "That raises an obvious question: if it is such a good idea, why aren't we all doing it?\n",
    "The key issue is the cost.\n",
    "Britain is frequently described as having some of the oldest and least energy efficient housing in Europe. Retrofitting - adding insulation to existing homes - can be very expensive and Mr Stark says the government isn't doing enough to help fund this costly work.\n",
    "\"\"\""
   ]
  },
  {
   "cell_type": "code",
   "execution_count": 25,
   "id": "4ce731d6",
   "metadata": {},
   "outputs": [
    {
     "name": "stdout",
     "output_type": "stream",
     "text": [
      "\n",
      "Chris Stark, head of the UK's Climate Change Committee, told the BBC he rates government policy on insulation as \"very poor\".\n",
      "Insulation, together with renewable power, is the way out of the current energy crisis, he says.\n",
      "Two-thirds of homes, or 19 million, need better insulation, according to government data.\n",
      "That raises an obvious question: if it is such a good idea, why aren't we all doing it?\n",
      "The key issue is the cost.\n",
      "Britain is frequently described as having some of the oldest and least energy efficient housing in Europe. Retrofitting - adding insulation to existing homes - can be very expensive and Mr Stark says the government isn't doing enough to help fund this costly work.\n",
      "\n"
     ]
    }
   ],
   "source": [
    "print(text)"
   ]
  },
  {
   "cell_type": "code",
   "execution_count": 26,
   "id": "e66e05c7",
   "metadata": {},
   "outputs": [],
   "source": [
    "text_backup = text"
   ]
  },
  {
   "cell_type": "code",
   "execution_count": 27,
   "id": "675b2318",
   "metadata": {},
   "outputs": [
    {
     "data": {
      "text/plain": [
       "['Chris',\n",
       " 'Stark,',\n",
       " 'head',\n",
       " 'of',\n",
       " 'the',\n",
       " \"UK's\",\n",
       " 'Climate',\n",
       " 'Change',\n",
       " 'Committee,',\n",
       " 'told']"
      ]
     },
     "execution_count": 27,
     "metadata": {},
     "output_type": "execute_result"
    }
   ],
   "source": [
    "# extracted the first 10 words as a list\n",
    "text.split()[:10]"
   ]
  },
  {
   "cell_type": "code",
   "execution_count": 28,
   "id": "f2099cca",
   "metadata": {},
   "outputs": [
    {
     "data": {
      "text/plain": [
       "['',\n",
       " 'Chris Stark, head of the UK\\'s Climate Change Committee, told the BBC he rates government policy on insulation as \"very poor\".',\n",
       " 'Insulation, together with renewable power, is the way out of the current energy crisis, he says.',\n",
       " 'Two-thirds of homes, or 19 million, need better insulation, according to government data.',\n",
       " \"That raises an obvious question: if it is such a good idea, why aren't we all doing it?\",\n",
       " 'The key issue is the cost.',\n",
       " \"Britain is frequently described as having some of the oldest and least energy efficient housing in Europe. Retrofitting - adding insulation to existing homes - can be very expensive and Mr Stark says the government isn't doing enough to help fund this costly work.\",\n",
       " '']"
      ]
     },
     "execution_count": 28,
     "metadata": {},
     "output_type": "execute_result"
    }
   ],
   "source": [
    "# It splits by blanks if we use \\n\n",
    "text.split(\"\\n\") "
   ]
  },
  {
   "cell_type": "code",
   "execution_count": 29,
   "id": "bbe17c1b",
   "metadata": {},
   "outputs": [],
   "source": [
    "sentences_text = text.split(\"\\n\")"
   ]
  },
  {
   "cell_type": "code",
   "execution_count": 30,
   "id": "79d7e3b7",
   "metadata": {},
   "outputs": [
    {
     "data": {
      "text/plain": [
       "0                                                                                                                                                                                                                                                                            \n",
       "1    Chris Stark, head of the UK's Climate Change Committee, told the BBC he rates government policy on insulation as \"very poor\".                                                                                                                                           \n",
       "2    Insulation, together with renewable power, is the way out of the current energy crisis, he says.                                                                                                                                                                        \n",
       "3    Two-thirds of homes, or 19 million, need better insulation, according to government data.                                                                                                                                                                               \n",
       "4    That raises an obvious question: if it is such a good idea, why aren't we all doing it?                                                                                                                                                                                 \n",
       "5    The key issue is the cost.                                                                                                                                                                                                                                              \n",
       "6    Britain is frequently described as having some of the oldest and least energy efficient housing in Europe. Retrofitting - adding insulation to existing homes - can be very expensive and Mr Stark says the government isn't doing enough to help fund this costly work.\n",
       "7                                                                                                                                                                                                                                                                            \n",
       "dtype: object"
      ]
     },
     "execution_count": 30,
     "metadata": {},
     "output_type": "execute_result"
    }
   ],
   "source": [
    "# convert the text into series\n",
    "\n",
    "text_to_series = pd.Series(sentences_text)\n",
    "text_to_series"
   ]
  },
  {
   "cell_type": "code",
   "execution_count": 31,
   "id": "fbf24181",
   "metadata": {},
   "outputs": [
    {
     "data": {
      "text/plain": [
       "1    Chris Stark, head of the UK's Climate Change Committee, told the BBC he rates government policy on insulation as \"very poor\".                                                                                                                                           \n",
       "2    Insulation, together with renewable power, is the way out of the current energy crisis, he says.                                                                                                                                                                        \n",
       "3    Two-thirds of homes, or 19 million, need better insulation, according to government data.                                                                                                                                                                               \n",
       "4    That raises an obvious question: if it is such a good idea, why aren't we all doing it?                                                                                                                                                                                 \n",
       "5    The key issue is the cost.                                                                                                                                                                                                                                              \n",
       "6    Britain is frequently described as having some of the oldest and least energy efficient housing in Europe. Retrofitting - adding insulation to existing homes - can be very expensive and Mr Stark says the government isn't doing enough to help fund this costly work.\n",
       "dtype: object"
      ]
     },
     "execution_count": 31,
     "metadata": {},
     "output_type": "execute_result"
    }
   ],
   "source": [
    "# take all Rows except 1st and last row\n",
    "\n",
    "text_vector = text_to_series[1:len(text_to_series)-1]\n",
    "text_vector"
   ]
  },
  {
   "cell_type": "code",
   "execution_count": 32,
   "id": "252be117",
   "metadata": {},
   "outputs": [
    {
     "data": {
      "text/html": [
       "<div>\n",
       "<style scoped>\n",
       "    .dataframe tbody tr th:only-of-type {\n",
       "        vertical-align: middle;\n",
       "    }\n",
       "\n",
       "    .dataframe tbody tr th {\n",
       "        vertical-align: top;\n",
       "    }\n",
       "\n",
       "    .dataframe thead th {\n",
       "        text-align: right;\n",
       "    }\n",
       "</style>\n",
       "<table border=\"1\" class=\"dataframe\">\n",
       "  <thead>\n",
       "    <tr style=\"text-align: right;\">\n",
       "      <th></th>\n",
       "      <th>sentences</th>\n",
       "    </tr>\n",
       "  </thead>\n",
       "  <tbody>\n",
       "    <tr>\n",
       "      <th>1</th>\n",
       "      <td>Chris Stark, head of the UK's Climate Change Committee, told the BBC he rates government policy on insulation as \"very poor\".</td>\n",
       "    </tr>\n",
       "    <tr>\n",
       "      <th>2</th>\n",
       "      <td>Insulation, together with renewable power, is the way out of the current energy crisis, he says.</td>\n",
       "    </tr>\n",
       "    <tr>\n",
       "      <th>3</th>\n",
       "      <td>Two-thirds of homes, or 19 million, need better insulation, according to government data.</td>\n",
       "    </tr>\n",
       "    <tr>\n",
       "      <th>4</th>\n",
       "      <td>That raises an obvious question: if it is such a good idea, why aren't we all doing it?</td>\n",
       "    </tr>\n",
       "    <tr>\n",
       "      <th>5</th>\n",
       "      <td>The key issue is the cost.</td>\n",
       "    </tr>\n",
       "    <tr>\n",
       "      <th>6</th>\n",
       "      <td>Britain is frequently described as having some of the oldest and least energy efficient housing in Europe. Retrofitting - adding insulation to existing homes - can be very expensive and Mr Stark says the government isn't doing enough to help fund this costly work.</td>\n",
       "    </tr>\n",
       "  </tbody>\n",
       "</table>\n",
       "</div>"
      ],
      "text/plain": [
       "                                                                                                                                                                                                                                                                  sentences\n",
       "1  Chris Stark, head of the UK's Climate Change Committee, told the BBC he rates government policy on insulation as \"very poor\".                                                                                                                                           \n",
       "2  Insulation, together with renewable power, is the way out of the current energy crisis, he says.                                                                                                                                                                        \n",
       "3  Two-thirds of homes, or 19 million, need better insulation, according to government data.                                                                                                                                                                               \n",
       "4  That raises an obvious question: if it is such a good idea, why aren't we all doing it?                                                                                                                                                                                 \n",
       "5  The key issue is the cost.                                                                                                                                                                                                                                              \n",
       "6  Britain is frequently described as having some of the oldest and least energy efficient housing in Europe. Retrofitting - adding insulation to existing homes - can be very expensive and Mr Stark says the government isn't doing enough to help fund this costly work."
      ]
     },
     "execution_count": 32,
     "metadata": {},
     "output_type": "execute_result"
    }
   ],
   "source": [
    "# named the colomn as \"Sentences\"\n",
    "\n",
    "text_df = pd.DataFrame(text_vector, columns = [\"sentences\"])\n",
    "text_df"
   ]
  },
  {
   "cell_type": "code",
   "execution_count": 33,
   "id": "1128f336",
   "metadata": {},
   "outputs": [],
   "source": [
    "# variable \"text_df\" is being copied to a new variable called \"text_df_backup\". \n",
    "\n",
    "text_df_backup = text_df.copy()"
   ]
  },
  {
   "cell_type": "markdown",
   "id": "6b320bf3",
   "metadata": {},
   "source": [
    "##### Case Conversion"
   ]
  },
  {
   "cell_type": "code",
   "execution_count": 34,
   "id": "a70d538f",
   "metadata": {},
   "outputs": [
    {
     "data": {
      "text/html": [
       "<div>\n",
       "<style scoped>\n",
       "    .dataframe tbody tr th:only-of-type {\n",
       "        vertical-align: middle;\n",
       "    }\n",
       "\n",
       "    .dataframe tbody tr th {\n",
       "        vertical-align: top;\n",
       "    }\n",
       "\n",
       "    .dataframe thead th {\n",
       "        text-align: right;\n",
       "    }\n",
       "</style>\n",
       "<table border=\"1\" class=\"dataframe\">\n",
       "  <thead>\n",
       "    <tr style=\"text-align: right;\">\n",
       "      <th></th>\n",
       "      <th>sentences</th>\n",
       "    </tr>\n",
       "  </thead>\n",
       "  <tbody>\n",
       "    <tr>\n",
       "      <th>1</th>\n",
       "      <td>Chris Stark, head of the UK's Climate Change Committee, told the BBC he rates government policy on insulation as \"very poor\".</td>\n",
       "    </tr>\n",
       "    <tr>\n",
       "      <th>2</th>\n",
       "      <td>Insulation, together with renewable power, is the way out of the current energy crisis, he says.</td>\n",
       "    </tr>\n",
       "    <tr>\n",
       "      <th>3</th>\n",
       "      <td>Two-thirds of homes, or 19 million, need better insulation, according to government data.</td>\n",
       "    </tr>\n",
       "    <tr>\n",
       "      <th>4</th>\n",
       "      <td>That raises an obvious question: if it is such a good idea, why aren't we all doing it?</td>\n",
       "    </tr>\n",
       "    <tr>\n",
       "      <th>5</th>\n",
       "      <td>The key issue is the cost.</td>\n",
       "    </tr>\n",
       "    <tr>\n",
       "      <th>6</th>\n",
       "      <td>Britain is frequently described as having some of the oldest and least energy efficient housing in Europe. Retrofitting - adding insulation to existing homes - can be very expensive and Mr Stark says the government isn't doing enough to help fund this costly work.</td>\n",
       "    </tr>\n",
       "  </tbody>\n",
       "</table>\n",
       "</div>"
      ],
      "text/plain": [
       "                                                                                                                                                                                                                                                                  sentences\n",
       "1  Chris Stark, head of the UK's Climate Change Committee, told the BBC he rates government policy on insulation as \"very poor\".                                                                                                                                           \n",
       "2  Insulation, together with renewable power, is the way out of the current energy crisis, he says.                                                                                                                                                                        \n",
       "3  Two-thirds of homes, or 19 million, need better insulation, according to government data.                                                                                                                                                                               \n",
       "4  That raises an obvious question: if it is such a good idea, why aren't we all doing it?                                                                                                                                                                                 \n",
       "5  The key issue is the cost.                                                                                                                                                                                                                                              \n",
       "6  Britain is frequently described as having some of the oldest and least energy efficient housing in Europe. Retrofitting - adding insulation to existing homes - can be very expensive and Mr Stark says the government isn't doing enough to help fund this costly work."
      ]
     },
     "execution_count": 34,
     "metadata": {},
     "output_type": "execute_result"
    }
   ],
   "source": [
    "tdf = text_df.copy()\n",
    "tdf"
   ]
  },
  {
   "cell_type": "code",
   "execution_count": 35,
   "id": "f50390a4",
   "metadata": {},
   "outputs": [],
   "source": [
    "#job = [\"Machine \",\"Learning \",\"Engineer\"]"
   ]
  },
  {
   "cell_type": "code",
   "execution_count": 39,
   "id": "82e82c0e",
   "metadata": {},
   "outputs": [],
   "source": [
    "#str1 = \"\".join(text for text in job)\n",
    "#str1"
   ]
  },
  {
   "cell_type": "markdown",
   "id": "8c054026",
   "metadata": {},
   "source": [
    "#### Convert all Characters to Lower Case"
   ]
  },
  {
   "cell_type": "code",
   "execution_count": 40,
   "id": "61015acf",
   "metadata": {},
   "outputs": [
    {
     "data": {
      "text/html": [
       "<div>\n",
       "<style scoped>\n",
       "    .dataframe tbody tr th:only-of-type {\n",
       "        vertical-align: middle;\n",
       "    }\n",
       "\n",
       "    .dataframe tbody tr th {\n",
       "        vertical-align: top;\n",
       "    }\n",
       "\n",
       "    .dataframe thead th {\n",
       "        text-align: right;\n",
       "    }\n",
       "</style>\n",
       "<table border=\"1\" class=\"dataframe\">\n",
       "  <thead>\n",
       "    <tr style=\"text-align: right;\">\n",
       "      <th></th>\n",
       "      <th>sentences</th>\n",
       "      <th>lower_sentences</th>\n",
       "    </tr>\n",
       "  </thead>\n",
       "  <tbody>\n",
       "    <tr>\n",
       "      <th>1</th>\n",
       "      <td>Chris Stark, head of the UK's Climate Change Committee, told the BBC he rates government policy on insulation as \"very poor\".</td>\n",
       "      <td>chris stark, head of the uk's climate change committee, told the bbc he rates government policy on insulation as \"very poor\".</td>\n",
       "    </tr>\n",
       "    <tr>\n",
       "      <th>2</th>\n",
       "      <td>Insulation, together with renewable power, is the way out of the current energy crisis, he says.</td>\n",
       "      <td>insulation, together with renewable power, is the way out of the current energy crisis, he says.</td>\n",
       "    </tr>\n",
       "    <tr>\n",
       "      <th>3</th>\n",
       "      <td>Two-thirds of homes, or 19 million, need better insulation, according to government data.</td>\n",
       "      <td>two-thirds of homes, or 19 million, need better insulation, according to government data.</td>\n",
       "    </tr>\n",
       "    <tr>\n",
       "      <th>4</th>\n",
       "      <td>That raises an obvious question: if it is such a good idea, why aren't we all doing it?</td>\n",
       "      <td>that raises an obvious question: if it is such a good idea, why aren't we all doing it?</td>\n",
       "    </tr>\n",
       "    <tr>\n",
       "      <th>5</th>\n",
       "      <td>The key issue is the cost.</td>\n",
       "      <td>the key issue is the cost.</td>\n",
       "    </tr>\n",
       "    <tr>\n",
       "      <th>6</th>\n",
       "      <td>Britain is frequently described as having some of the oldest and least energy efficient housing in Europe. Retrofitting - adding insulation to existing homes - can be very expensive and Mr Stark says the government isn't doing enough to help fund this costly work.</td>\n",
       "      <td>britain is frequently described as having some of the oldest and least energy efficient housing in europe. retrofitting - adding insulation to existing homes - can be very expensive and mr stark says the government isn't doing enough to help fund this costly work.</td>\n",
       "    </tr>\n",
       "  </tbody>\n",
       "</table>\n",
       "</div>"
      ],
      "text/plain": [
       "                                                                                                                                                                                                                                                                  sentences                                                                                                                                                                                                                                                           lower_sentences\n",
       "1  Chris Stark, head of the UK's Climate Change Committee, told the BBC he rates government policy on insulation as \"very poor\".                                                                                                                                             chris stark, head of the uk's climate change committee, told the bbc he rates government policy on insulation as \"very poor\".                                                                                                                                           \n",
       "2  Insulation, together with renewable power, is the way out of the current energy crisis, he says.                                                                                                                                                                          insulation, together with renewable power, is the way out of the current energy crisis, he says.                                                                                                                                                                        \n",
       "3  Two-thirds of homes, or 19 million, need better insulation, according to government data.                                                                                                                                                                                 two-thirds of homes, or 19 million, need better insulation, according to government data.                                                                                                                                                                               \n",
       "4  That raises an obvious question: if it is such a good idea, why aren't we all doing it?                                                                                                                                                                                   that raises an obvious question: if it is such a good idea, why aren't we all doing it?                                                                                                                                                                                 \n",
       "5  The key issue is the cost.                                                                                                                                                                                                                                                the key issue is the cost.                                                                                                                                                                                                                                              \n",
       "6  Britain is frequently described as having some of the oldest and least energy efficient housing in Europe. Retrofitting - adding insulation to existing homes - can be very expensive and Mr Stark says the government isn't doing enough to help fund this costly work.  britain is frequently described as having some of the oldest and least energy efficient housing in europe. retrofitting - adding insulation to existing homes - can be very expensive and mr stark says the government isn't doing enough to help fund this costly work."
      ]
     },
     "execution_count": 40,
     "metadata": {},
     "output_type": "execute_result"
    }
   ],
   "source": [
    "tdf[\"lower_sentences\"] = tdf[\"sentences\"].apply(lambda x: \" \".join(x.lower() for x in x.split()))\n",
    "tdf"
   ]
  },
  {
   "cell_type": "code",
   "execution_count": 41,
   "id": "d5d73f68",
   "metadata": {},
   "outputs": [
    {
     "data": {
      "text/plain": [
       "pandas.core.frame.DataFrame"
      ]
     },
     "execution_count": 41,
     "metadata": {},
     "output_type": "execute_result"
    }
   ],
   "source": [
    "type(tdf)"
   ]
  },
  {
   "cell_type": "markdown",
   "id": "2a78271a",
   "metadata": {},
   "source": [
    "#### Handling with Punctuation"
   ]
  },
  {
   "cell_type": "code",
   "execution_count": 42,
   "id": "09d3c570",
   "metadata": {},
   "outputs": [
    {
     "data": {
      "text/html": [
       "<div>\n",
       "<style scoped>\n",
       "    .dataframe tbody tr th:only-of-type {\n",
       "        vertical-align: middle;\n",
       "    }\n",
       "\n",
       "    .dataframe tbody tr th {\n",
       "        vertical-align: top;\n",
       "    }\n",
       "\n",
       "    .dataframe thead th {\n",
       "        text-align: right;\n",
       "    }\n",
       "</style>\n",
       "<table border=\"1\" class=\"dataframe\">\n",
       "  <thead>\n",
       "    <tr style=\"text-align: right;\">\n",
       "      <th></th>\n",
       "      <th>sentences</th>\n",
       "      <th>lower_sentences</th>\n",
       "      <th>punctuation_removed</th>\n",
       "    </tr>\n",
       "  </thead>\n",
       "  <tbody>\n",
       "    <tr>\n",
       "      <th>1</th>\n",
       "      <td>Chris Stark, head of the UK's Climate Change Committee, told the BBC he rates government policy on insulation as \"very poor\".</td>\n",
       "      <td>chris stark, head of the uk's climate change committee, told the bbc he rates government policy on insulation as \"very poor\".</td>\n",
       "      <td>chris stark head of the uks climate change committee told the bbc he rates government policy on insulation as very poor</td>\n",
       "    </tr>\n",
       "    <tr>\n",
       "      <th>2</th>\n",
       "      <td>Insulation, together with renewable power, is the way out of the current energy crisis, he says.</td>\n",
       "      <td>insulation, together with renewable power, is the way out of the current energy crisis, he says.</td>\n",
       "      <td>insulation together with renewable power is the way out of the current energy crisis he says</td>\n",
       "    </tr>\n",
       "    <tr>\n",
       "      <th>3</th>\n",
       "      <td>Two-thirds of homes, or 19 million, need better insulation, according to government data.</td>\n",
       "      <td>two-thirds of homes, or 19 million, need better insulation, according to government data.</td>\n",
       "      <td>twothirds of homes or 19 million need better insulation according to government data</td>\n",
       "    </tr>\n",
       "    <tr>\n",
       "      <th>4</th>\n",
       "      <td>That raises an obvious question: if it is such a good idea, why aren't we all doing it?</td>\n",
       "      <td>that raises an obvious question: if it is such a good idea, why aren't we all doing it?</td>\n",
       "      <td>that raises an obvious question if it is such a good idea why arent we all doing it</td>\n",
       "    </tr>\n",
       "    <tr>\n",
       "      <th>5</th>\n",
       "      <td>The key issue is the cost.</td>\n",
       "      <td>the key issue is the cost.</td>\n",
       "      <td>the key issue is the cost</td>\n",
       "    </tr>\n",
       "    <tr>\n",
       "      <th>6</th>\n",
       "      <td>Britain is frequently described as having some of the oldest and least energy efficient housing in Europe. Retrofitting - adding insulation to existing homes - can be very expensive and Mr Stark says the government isn't doing enough to help fund this costly work.</td>\n",
       "      <td>britain is frequently described as having some of the oldest and least energy efficient housing in europe. retrofitting - adding insulation to existing homes - can be very expensive and mr stark says the government isn't doing enough to help fund this costly work.</td>\n",
       "      <td>britain is frequently described as having some of the oldest and least energy efficient housing in europe retrofitting  adding insulation to existing homes  can be very expensive and mr stark says the government isnt doing enough to help fund this costly work</td>\n",
       "    </tr>\n",
       "  </tbody>\n",
       "</table>\n",
       "</div>"
      ],
      "text/plain": [
       "                                                                                                                                                                                                                                                                  sentences                                                                                                                                                                                                                                                           lower_sentences                                                                                                                                                                                                                                                  punctuation_removed\n",
       "1  Chris Stark, head of the UK's Climate Change Committee, told the BBC he rates government policy on insulation as \"very poor\".                                                                                                                                             chris stark, head of the uk's climate change committee, told the bbc he rates government policy on insulation as \"very poor\".                                                                                                                                             chris stark head of the uks climate change committee told the bbc he rates government policy on insulation as very poor                                                                                                                                            \n",
       "2  Insulation, together with renewable power, is the way out of the current energy crisis, he says.                                                                                                                                                                          insulation, together with renewable power, is the way out of the current energy crisis, he says.                                                                                                                                                                          insulation together with renewable power is the way out of the current energy crisis he says                                                                                                                                                                       \n",
       "3  Two-thirds of homes, or 19 million, need better insulation, according to government data.                                                                                                                                                                                 two-thirds of homes, or 19 million, need better insulation, according to government data.                                                                                                                                                                                 twothirds of homes or 19 million need better insulation according to government data                                                                                                                                                                               \n",
       "4  That raises an obvious question: if it is such a good idea, why aren't we all doing it?                                                                                                                                                                                   that raises an obvious question: if it is such a good idea, why aren't we all doing it?                                                                                                                                                                                   that raises an obvious question if it is such a good idea why arent we all doing it                                                                                                                                                                                \n",
       "5  The key issue is the cost.                                                                                                                                                                                                                                                the key issue is the cost.                                                                                                                                                                                                                                                the key issue is the cost                                                                                                                                                                                                                                          \n",
       "6  Britain is frequently described as having some of the oldest and least energy efficient housing in Europe. Retrofitting - adding insulation to existing homes - can be very expensive and Mr Stark says the government isn't doing enough to help fund this costly work.  britain is frequently described as having some of the oldest and least energy efficient housing in europe. retrofitting - adding insulation to existing homes - can be very expensive and mr stark says the government isn't doing enough to help fund this costly work.  britain is frequently described as having some of the oldest and least energy efficient housing in europe retrofitting  adding insulation to existing homes  can be very expensive and mr stark says the government isnt doing enough to help fund this costly work"
      ]
     },
     "execution_count": 42,
     "metadata": {},
     "output_type": "execute_result"
    }
   ],
   "source": [
    "tdf[\"punctuation_removed\"] = tdf[\"lower_sentences\"].str.replace(\"[^\\w\\s]\",\"\")\n",
    "tdf"
   ]
  },
  {
   "cell_type": "code",
   "execution_count": 43,
   "id": "5d4d2f12",
   "metadata": {},
   "outputs": [
    {
     "data": {
      "text/plain": [
       "'!\"#$%&\\'()*+,-./:;<=>?@[\\\\]^_`{|}~'"
      ]
     },
     "execution_count": 43,
     "metadata": {},
     "output_type": "execute_result"
    }
   ],
   "source": [
    "string.punctuation"
   ]
  },
  {
   "cell_type": "code",
   "execution_count": 44,
   "id": "1ac41741",
   "metadata": {},
   "outputs": [
    {
     "data": {
      "text/html": [
       "<div>\n",
       "<style scoped>\n",
       "    .dataframe tbody tr th:only-of-type {\n",
       "        vertical-align: middle;\n",
       "    }\n",
       "\n",
       "    .dataframe tbody tr th {\n",
       "        vertical-align: top;\n",
       "    }\n",
       "\n",
       "    .dataframe thead th {\n",
       "        text-align: right;\n",
       "    }\n",
       "</style>\n",
       "<table border=\"1\" class=\"dataframe\">\n",
       "  <thead>\n",
       "    <tr style=\"text-align: right;\">\n",
       "      <th></th>\n",
       "      <th>sentences</th>\n",
       "    </tr>\n",
       "  </thead>\n",
       "  <tbody>\n",
       "    <tr>\n",
       "      <th>1</th>\n",
       "      <td>Chris Stark, head of the UK's Climate Change Committee, told the BBC he rates government policy on insulation as \"very poor\".</td>\n",
       "    </tr>\n",
       "    <tr>\n",
       "      <th>2</th>\n",
       "      <td>Insulation, together with renewable power, is the way out of the current energy crisis, he says.</td>\n",
       "    </tr>\n",
       "    <tr>\n",
       "      <th>3</th>\n",
       "      <td>Two-thirds of homes, or 19 million, need better insulation, according to government data.</td>\n",
       "    </tr>\n",
       "    <tr>\n",
       "      <th>4</th>\n",
       "      <td>That raises an obvious question: if it is such a good idea, why aren't we all doing it?</td>\n",
       "    </tr>\n",
       "    <tr>\n",
       "      <th>5</th>\n",
       "      <td>The key issue is the cost.</td>\n",
       "    </tr>\n",
       "  </tbody>\n",
       "</table>\n",
       "</div>"
      ],
      "text/plain": [
       "                                                                                                                       sentences\n",
       "1  Chris Stark, head of the UK's Climate Change Committee, told the BBC he rates government policy on insulation as \"very poor\".\n",
       "2  Insulation, together with renewable power, is the way out of the current energy crisis, he says.                             \n",
       "3  Two-thirds of homes, or 19 million, need better insulation, according to government data.                                    \n",
       "4  That raises an obvious question: if it is such a good idea, why aren't we all doing it?                                      \n",
       "5  The key issue is the cost.                                                                                                   "
      ]
     },
     "execution_count": 44,
     "metadata": {},
     "output_type": "execute_result"
    }
   ],
   "source": [
    "text_df_backup.head()"
   ]
  },
  {
   "cell_type": "code",
   "execution_count": 45,
   "id": "078e47a6",
   "metadata": {},
   "outputs": [],
   "source": [
    "def handling_with_punctuation(text):\n",
    "    new_text = \"\".join([letter for letter in text if letter not in string.punctuation])\n",
    "    return new_text"
   ]
  },
  {
   "cell_type": "code",
   "execution_count": 46,
   "id": "629a1764",
   "metadata": {},
   "outputs": [],
   "source": [
    "text_df_backup['sentences_punctuation'] = \"\"\n",
    "text_df_backup['sentences_punctuation']= text_df_backup['sentences'].apply(lambda text:handling_with_punctuation(text))"
   ]
  },
  {
   "cell_type": "code",
   "execution_count": 47,
   "id": "5f44bbc3",
   "metadata": {},
   "outputs": [
    {
     "data": {
      "text/html": [
       "<div>\n",
       "<style scoped>\n",
       "    .dataframe tbody tr th:only-of-type {\n",
       "        vertical-align: middle;\n",
       "    }\n",
       "\n",
       "    .dataframe tbody tr th {\n",
       "        vertical-align: top;\n",
       "    }\n",
       "\n",
       "    .dataframe thead th {\n",
       "        text-align: right;\n",
       "    }\n",
       "</style>\n",
       "<table border=\"1\" class=\"dataframe\">\n",
       "  <thead>\n",
       "    <tr style=\"text-align: right;\">\n",
       "      <th></th>\n",
       "      <th>sentences</th>\n",
       "      <th>sentences_punctuation</th>\n",
       "    </tr>\n",
       "  </thead>\n",
       "  <tbody>\n",
       "    <tr>\n",
       "      <th>1</th>\n",
       "      <td>Chris Stark, head of the UK's Climate Change Committee, told the BBC he rates government policy on insulation as \"very poor\".</td>\n",
       "      <td>Chris Stark head of the UKs Climate Change Committee told the BBC he rates government policy on insulation as very poor</td>\n",
       "    </tr>\n",
       "    <tr>\n",
       "      <th>2</th>\n",
       "      <td>Insulation, together with renewable power, is the way out of the current energy crisis, he says.</td>\n",
       "      <td>Insulation together with renewable power is the way out of the current energy crisis he says</td>\n",
       "    </tr>\n",
       "    <tr>\n",
       "      <th>3</th>\n",
       "      <td>Two-thirds of homes, or 19 million, need better insulation, according to government data.</td>\n",
       "      <td>Twothirds of homes or 19 million need better insulation according to government data</td>\n",
       "    </tr>\n",
       "    <tr>\n",
       "      <th>4</th>\n",
       "      <td>That raises an obvious question: if it is such a good idea, why aren't we all doing it?</td>\n",
       "      <td>That raises an obvious question if it is such a good idea why arent we all doing it</td>\n",
       "    </tr>\n",
       "    <tr>\n",
       "      <th>5</th>\n",
       "      <td>The key issue is the cost.</td>\n",
       "      <td>The key issue is the cost</td>\n",
       "    </tr>\n",
       "  </tbody>\n",
       "</table>\n",
       "</div>"
      ],
      "text/plain": [
       "                                                                                                                       sentences                                                                                                    sentences_punctuation\n",
       "1  Chris Stark, head of the UK's Climate Change Committee, told the BBC he rates government policy on insulation as \"very poor\".  Chris Stark head of the UKs Climate Change Committee told the BBC he rates government policy on insulation as very poor\n",
       "2  Insulation, together with renewable power, is the way out of the current energy crisis, he says.                               Insulation together with renewable power is the way out of the current energy crisis he says                           \n",
       "3  Two-thirds of homes, or 19 million, need better insulation, according to government data.                                      Twothirds of homes or 19 million need better insulation according to government data                                   \n",
       "4  That raises an obvious question: if it is such a good idea, why aren't we all doing it?                                        That raises an obvious question if it is such a good idea why arent we all doing it                                    \n",
       "5  The key issue is the cost.                                                                                                     The key issue is the cost                                                                                              "
      ]
     },
     "execution_count": 47,
     "metadata": {},
     "output_type": "execute_result"
    }
   ],
   "source": [
    "text_df_backup.head()"
   ]
  },
  {
   "cell_type": "markdown",
   "id": "99d055e0",
   "metadata": {},
   "source": [
    "#### Handling with Numbers"
   ]
  },
  {
   "cell_type": "code",
   "execution_count": 48,
   "id": "e86fd88b",
   "metadata": {},
   "outputs": [
    {
     "data": {
      "text/html": [
       "<div>\n",
       "<style scoped>\n",
       "    .dataframe tbody tr th:only-of-type {\n",
       "        vertical-align: middle;\n",
       "    }\n",
       "\n",
       "    .dataframe tbody tr th {\n",
       "        vertical-align: top;\n",
       "    }\n",
       "\n",
       "    .dataframe thead th {\n",
       "        text-align: right;\n",
       "    }\n",
       "</style>\n",
       "<table border=\"1\" class=\"dataframe\">\n",
       "  <thead>\n",
       "    <tr style=\"text-align: right;\">\n",
       "      <th></th>\n",
       "      <th>sentences</th>\n",
       "      <th>lower_sentences</th>\n",
       "      <th>punctuation_removed</th>\n",
       "    </tr>\n",
       "  </thead>\n",
       "  <tbody>\n",
       "    <tr>\n",
       "      <th>1</th>\n",
       "      <td>Chris Stark, head of the UK's Climate Change Committee, told the BBC he rates government policy on insulation as \"very poor\".</td>\n",
       "      <td>chris stark, head of the uk's climate change committee, told the bbc he rates government policy on insulation as \"very poor\".</td>\n",
       "      <td>chris stark head of the uks climate change committee told the bbc he rates government policy on insulation as very poor</td>\n",
       "    </tr>\n",
       "    <tr>\n",
       "      <th>2</th>\n",
       "      <td>Insulation, together with renewable power, is the way out of the current energy crisis, he says.</td>\n",
       "      <td>insulation, together with renewable power, is the way out of the current energy crisis, he says.</td>\n",
       "      <td>insulation together with renewable power is the way out of the current energy crisis he says</td>\n",
       "    </tr>\n",
       "    <tr>\n",
       "      <th>3</th>\n",
       "      <td>Two-thirds of homes, or 19 million, need better insulation, according to government data.</td>\n",
       "      <td>two-thirds of homes, or 19 million, need better insulation, according to government data.</td>\n",
       "      <td>twothirds of homes or 19 million need better insulation according to government data</td>\n",
       "    </tr>\n",
       "    <tr>\n",
       "      <th>4</th>\n",
       "      <td>That raises an obvious question: if it is such a good idea, why aren't we all doing it?</td>\n",
       "      <td>that raises an obvious question: if it is such a good idea, why aren't we all doing it?</td>\n",
       "      <td>that raises an obvious question if it is such a good idea why arent we all doing it</td>\n",
       "    </tr>\n",
       "    <tr>\n",
       "      <th>5</th>\n",
       "      <td>The key issue is the cost.</td>\n",
       "      <td>the key issue is the cost.</td>\n",
       "      <td>the key issue is the cost</td>\n",
       "    </tr>\n",
       "  </tbody>\n",
       "</table>\n",
       "</div>"
      ],
      "text/plain": [
       "                                                                                                                       sentences                                                                                                                lower_sentences                                                                                                      punctuation_removed\n",
       "1  Chris Stark, head of the UK's Climate Change Committee, told the BBC he rates government policy on insulation as \"very poor\".  chris stark, head of the uk's climate change committee, told the bbc he rates government policy on insulation as \"very poor\".  chris stark head of the uks climate change committee told the bbc he rates government policy on insulation as very poor\n",
       "2  Insulation, together with renewable power, is the way out of the current energy crisis, he says.                               insulation, together with renewable power, is the way out of the current energy crisis, he says.                               insulation together with renewable power is the way out of the current energy crisis he says                           \n",
       "3  Two-thirds of homes, or 19 million, need better insulation, according to government data.                                      two-thirds of homes, or 19 million, need better insulation, according to government data.                                      twothirds of homes or 19 million need better insulation according to government data                                   \n",
       "4  That raises an obvious question: if it is such a good idea, why aren't we all doing it?                                        that raises an obvious question: if it is such a good idea, why aren't we all doing it?                                        that raises an obvious question if it is such a good idea why arent we all doing it                                    \n",
       "5  The key issue is the cost.                                                                                                     the key issue is the cost.                                                                                                     the key issue is the cost                                                                                              "
      ]
     },
     "execution_count": 48,
     "metadata": {},
     "output_type": "execute_result"
    }
   ],
   "source": [
    "tdf.head()"
   ]
  },
  {
   "cell_type": "code",
   "execution_count": 51,
   "id": "df38c4cb",
   "metadata": {},
   "outputs": [
    {
     "data": {
      "text/html": [
       "<div>\n",
       "<style scoped>\n",
       "    .dataframe tbody tr th:only-of-type {\n",
       "        vertical-align: middle;\n",
       "    }\n",
       "\n",
       "    .dataframe tbody tr th {\n",
       "        vertical-align: top;\n",
       "    }\n",
       "\n",
       "    .dataframe thead th {\n",
       "        text-align: right;\n",
       "    }\n",
       "</style>\n",
       "<table border=\"1\" class=\"dataframe\">\n",
       "  <thead>\n",
       "    <tr style=\"text-align: right;\">\n",
       "      <th></th>\n",
       "      <th>sentences</th>\n",
       "      <th>lower_sentences</th>\n",
       "      <th>punctuation_removed</th>\n",
       "      <th>numbers_removed</th>\n",
       "    </tr>\n",
       "  </thead>\n",
       "  <tbody>\n",
       "    <tr>\n",
       "      <th>1</th>\n",
       "      <td>Chris Stark, head of the UK's Climate Change Committee, told the BBC he rates government policy on insulation as \"very poor\".</td>\n",
       "      <td>chris stark, head of the uk's climate change committee, told the bbc he rates government policy on insulation as \"very poor\".</td>\n",
       "      <td>chris stark head of the uks climate change committee told the bbc he rates government policy on insulation as very poor</td>\n",
       "      <td>chris stark head of the uks climate change committee told the bbc he rates government policy on insulation as very poor</td>\n",
       "    </tr>\n",
       "    <tr>\n",
       "      <th>2</th>\n",
       "      <td>Insulation, together with renewable power, is the way out of the current energy crisis, he says.</td>\n",
       "      <td>insulation, together with renewable power, is the way out of the current energy crisis, he says.</td>\n",
       "      <td>insulation together with renewable power is the way out of the current energy crisis he says</td>\n",
       "      <td>insulation together with renewable power is the way out of the current energy crisis he says</td>\n",
       "    </tr>\n",
       "    <tr>\n",
       "      <th>3</th>\n",
       "      <td>Two-thirds of homes, or 19 million, need better insulation, according to government data.</td>\n",
       "      <td>two-thirds of homes, or 19 million, need better insulation, according to government data.</td>\n",
       "      <td>twothirds of homes or 19 million need better insulation according to government data</td>\n",
       "      <td>twothirds of homes or  million need better insulation according to government data</td>\n",
       "    </tr>\n",
       "  </tbody>\n",
       "</table>\n",
       "</div>"
      ],
      "text/plain": [
       "                                                                                                                       sentences                                                                                                                lower_sentences                                                                                                      punctuation_removed                                                                                                          numbers_removed\n",
       "1  Chris Stark, head of the UK's Climate Change Committee, told the BBC he rates government policy on insulation as \"very poor\".  chris stark, head of the uk's climate change committee, told the bbc he rates government policy on insulation as \"very poor\".  chris stark head of the uks climate change committee told the bbc he rates government policy on insulation as very poor  chris stark head of the uks climate change committee told the bbc he rates government policy on insulation as very poor\n",
       "2  Insulation, together with renewable power, is the way out of the current energy crisis, he says.                               insulation, together with renewable power, is the way out of the current energy crisis, he says.                               insulation together with renewable power is the way out of the current energy crisis he says                             insulation together with renewable power is the way out of the current energy crisis he says                           \n",
       "3  Two-thirds of homes, or 19 million, need better insulation, according to government data.                                      two-thirds of homes, or 19 million, need better insulation, according to government data.                                      twothirds of homes or 19 million need better insulation according to government data                                     twothirds of homes or  million need better insulation according to government data                                     "
      ]
     },
     "execution_count": 51,
     "metadata": {},
     "output_type": "execute_result"
    }
   ],
   "source": [
    "# remove numbers\n",
    "\n",
    "tdf[\"numbers_removed\"] = tdf[\"punctuation_removed\"].str.replace(\"\\d\",\"\")\n",
    "tdf.head(3)"
   ]
  },
  {
   "cell_type": "markdown",
   "id": "401a0fe2",
   "metadata": {},
   "source": [
    "#### Handling with Stopwords"
   ]
  },
  {
   "cell_type": "code",
   "execution_count": 52,
   "id": "05444cc9",
   "metadata": {},
   "outputs": [
    {
     "data": {
      "text/plain": [
       "'the key issue is the cost'"
      ]
     },
     "execution_count": 52,
     "metadata": {},
     "output_type": "execute_result"
    }
   ],
   "source": [
    "tdf[\"numbers_removed\"].iloc[4]"
   ]
  },
  {
   "cell_type": "code",
   "execution_count": 55,
   "id": "fd28a7eb",
   "metadata": {},
   "outputs": [
    {
     "data": {
      "text/plain": [
       "['i', 'me', 'my', 'myself', 'we', 'our', 'ours', 'ourselves', 'you', \"you're\"]"
      ]
     },
     "execution_count": 55,
     "metadata": {},
     "output_type": "execute_result"
    }
   ],
   "source": [
    "# some stopwords example.\n",
    "\n",
    "sw = stopwords.words(\"english\")\n",
    "sw[:10]"
   ]
  },
  {
   "cell_type": "code",
   "execution_count": 57,
   "id": "9cb1efd1",
   "metadata": {},
   "outputs": [
    {
     "data": {
      "text/html": [
       "<div>\n",
       "<style scoped>\n",
       "    .dataframe tbody tr th:only-of-type {\n",
       "        vertical-align: middle;\n",
       "    }\n",
       "\n",
       "    .dataframe tbody tr th {\n",
       "        vertical-align: top;\n",
       "    }\n",
       "\n",
       "    .dataframe thead th {\n",
       "        text-align: right;\n",
       "    }\n",
       "</style>\n",
       "<table border=\"1\" class=\"dataframe\">\n",
       "  <thead>\n",
       "    <tr style=\"text-align: right;\">\n",
       "      <th></th>\n",
       "      <th>sentences</th>\n",
       "      <th>lower_sentences</th>\n",
       "      <th>punctuation_removed</th>\n",
       "      <th>numbers_removed</th>\n",
       "      <th>stopwords_removed</th>\n",
       "    </tr>\n",
       "  </thead>\n",
       "  <tbody>\n",
       "    <tr>\n",
       "      <th>1</th>\n",
       "      <td>Chris Stark, head of the UK's Climate Change Committee, told the BBC he rates government policy on insulation as \"very poor\".</td>\n",
       "      <td>chris stark, head of the uk's climate change committee, told the bbc he rates government policy on insulation as \"very poor\".</td>\n",
       "      <td>chris stark head of the uks climate change committee told the bbc he rates government policy on insulation as very poor</td>\n",
       "      <td>chris stark head of the uks climate change committee told the bbc he rates government policy on insulation as very poor</td>\n",
       "      <td>chris stark head uks climate change committee told bbc rates government policy insulation poor</td>\n",
       "    </tr>\n",
       "    <tr>\n",
       "      <th>2</th>\n",
       "      <td>Insulation, together with renewable power, is the way out of the current energy crisis, he says.</td>\n",
       "      <td>insulation, together with renewable power, is the way out of the current energy crisis, he says.</td>\n",
       "      <td>insulation together with renewable power is the way out of the current energy crisis he says</td>\n",
       "      <td>insulation together with renewable power is the way out of the current energy crisis he says</td>\n",
       "      <td>insulation together renewable power way current energy crisis says</td>\n",
       "    </tr>\n",
       "    <tr>\n",
       "      <th>3</th>\n",
       "      <td>Two-thirds of homes, or 19 million, need better insulation, according to government data.</td>\n",
       "      <td>two-thirds of homes, or 19 million, need better insulation, according to government data.</td>\n",
       "      <td>twothirds of homes or 19 million need better insulation according to government data</td>\n",
       "      <td>twothirds of homes or  million need better insulation according to government data</td>\n",
       "      <td>twothirds homes million need better insulation according government data</td>\n",
       "    </tr>\n",
       "  </tbody>\n",
       "</table>\n",
       "</div>"
      ],
      "text/plain": [
       "                                                                                                                       sentences                                                                                                                lower_sentences                                                                                                      punctuation_removed                                                                                                          numbers_removed                                                                               stopwords_removed\n",
       "1  Chris Stark, head of the UK's Climate Change Committee, told the BBC he rates government policy on insulation as \"very poor\".  chris stark, head of the uk's climate change committee, told the bbc he rates government policy on insulation as \"very poor\".  chris stark head of the uks climate change committee told the bbc he rates government policy on insulation as very poor  chris stark head of the uks climate change committee told the bbc he rates government policy on insulation as very poor  chris stark head uks climate change committee told bbc rates government policy insulation poor\n",
       "2  Insulation, together with renewable power, is the way out of the current energy crisis, he says.                               insulation, together with renewable power, is the way out of the current energy crisis, he says.                               insulation together with renewable power is the way out of the current energy crisis he says                             insulation together with renewable power is the way out of the current energy crisis he says                             insulation together renewable power way current energy crisis says                            \n",
       "3  Two-thirds of homes, or 19 million, need better insulation, according to government data.                                      two-thirds of homes, or 19 million, need better insulation, according to government data.                                      twothirds of homes or 19 million need better insulation according to government data                                     twothirds of homes or  million need better insulation according to government data                                       twothirds homes million need better insulation according government data                      "
      ]
     },
     "execution_count": 57,
     "metadata": {},
     "output_type": "execute_result"
    }
   ],
   "source": [
    "# remove the Stopwords\n",
    "\n",
    "tdf[\"stopwords_removed\"] = tdf[\"numbers_removed\"].apply(lambda x: \" \".join(word for word in x.split() \n",
    "                                                                           if word not in sw))\n",
    "tdf.head(3)"
   ]
  },
  {
   "cell_type": "code",
   "execution_count": 58,
   "id": "38801ebf",
   "metadata": {},
   "outputs": [
    {
     "data": {
      "text/plain": [
       "'key issue cost'"
      ]
     },
     "execution_count": 58,
     "metadata": {},
     "output_type": "execute_result"
    }
   ],
   "source": [
    "tdf[\"stopwords_removed\"].iloc[4]"
   ]
  },
  {
   "cell_type": "markdown",
   "id": "a0a14092",
   "metadata": {},
   "source": [
    "#### Handling with Frequencies"
   ]
  },
  {
   "cell_type": "code",
   "execution_count": 59,
   "id": "c846059e",
   "metadata": {},
   "outputs": [
    {
     "data": {
      "text/plain": [
       "insulation      4\n",
       "government      3\n",
       "stark           2\n",
       "homes           2\n",
       "says            2\n",
       "energy          2\n",
       "chris           1\n",
       "least           1\n",
       "arent           1\n",
       "key             1\n",
       "issue           1\n",
       "cost            1\n",
       "britain         1\n",
       "frequently      1\n",
       "described       1\n",
       "oldest          1\n",
       "housing         1\n",
       "efficient       1\n",
       "good            1\n",
       "europe          1\n",
       "retrofitting    1\n",
       "adding          1\n",
       "existing        1\n",
       "expensive       1\n",
       "mr              1\n",
       "isnt            1\n",
       "enough          1\n",
       "help            1\n",
       "fund            1\n",
       "costly          1\n",
       "idea            1\n",
       "data            1\n",
       "question        1\n",
       "together        1\n",
       "head            1\n",
       "uks             1\n",
       "climate         1\n",
       "change          1\n",
       "committee       1\n",
       "told            1\n",
       "bbc             1\n",
       "rates           1\n",
       "policy          1\n",
       "poor            1\n",
       "renewable       1\n",
       "obvious         1\n",
       "power           1\n",
       "way             1\n",
       "current         1\n",
       "crisis          1\n",
       "twothirds       1\n",
       "million         1\n",
       "need            1\n",
       "better          1\n",
       "according       1\n",
       "raises          1\n",
       "work            1\n",
       "dtype: int64"
      ]
     },
     "execution_count": 59,
     "metadata": {},
     "output_type": "execute_result"
    }
   ],
   "source": [
    "pd.Series(\" \".join(tdf[\"stopwords_removed\"]).split()).value_counts()"
   ]
  },
  {
   "cell_type": "code",
   "execution_count": 61,
   "id": "c47b40b3",
   "metadata": {},
   "outputs": [
    {
     "data": {
      "text/plain": [
       "according    1\n",
       "raises       1\n",
       "work         1\n",
       "dtype: int64"
      ]
     },
     "execution_count": 61,
     "metadata": {},
     "output_type": "execute_result"
    }
   ],
   "source": [
    "#Our text is very small. But if we have huge text and want to delete the least frequent words, we can do with this way\n",
    "\n",
    "delete = pd.Series(\" \".join(tdf[\"stopwords_removed\"]).split()).value_counts()[-3:]\n",
    "delete"
   ]
  },
  {
   "cell_type": "code",
   "execution_count": 62,
   "id": "a4afbdb7",
   "metadata": {},
   "outputs": [
    {
     "data": {
      "text/plain": [
       "1    chris stark head uks climate change committee told bbc rates government policy insulation poor                                                                                         \n",
       "2    insulation together renewable power way current energy crisis says                                                                                                                     \n",
       "3    twothirds homes million need better insulation government data                                                                                                                         \n",
       "4    obvious question good idea arent                                                                                                                                                       \n",
       "5    key issue cost                                                                                                                                                                         \n",
       "6    britain frequently described oldest least energy efficient housing europe retrofitting adding insulation existing homes expensive mr stark says government isnt enough help fund costly\n",
       "Name: stopwords_removed, dtype: object"
      ]
     },
     "execution_count": 62,
     "metadata": {},
     "output_type": "execute_result"
    }
   ],
   "source": [
    "tdf[\"stopwords_removed\"].apply(lambda x: \" \".join(i for i in x.split() if i not in delete))"
   ]
  },
  {
   "cell_type": "markdown",
   "id": "00ddfc96",
   "metadata": {},
   "source": [
    "#### Tokenization"
   ]
  },
  {
   "cell_type": "code",
   "execution_count": 64,
   "id": "d16d2157",
   "metadata": {},
   "outputs": [
    {
     "data": {
      "text/plain": [
       "WordList(['chris', 'stark', 'head', 'uks', 'climate', 'change', 'committee', 'told', 'bbc', 'rates', 'government', 'policy', 'insulation', 'poor'])"
      ]
     },
     "execution_count": 64,
     "metadata": {},
     "output_type": "execute_result"
    }
   ],
   "source": [
    "TextBlob(tdf[\"stopwords_removed\"][1]).words"
   ]
  },
  {
   "cell_type": "code",
   "execution_count": 66,
   "id": "b43a3968",
   "metadata": {},
   "outputs": [
    {
     "data": {
      "text/html": [
       "<div>\n",
       "<style scoped>\n",
       "    .dataframe tbody tr th:only-of-type {\n",
       "        vertical-align: middle;\n",
       "    }\n",
       "\n",
       "    .dataframe tbody tr th {\n",
       "        vertical-align: top;\n",
       "    }\n",
       "\n",
       "    .dataframe thead th {\n",
       "        text-align: right;\n",
       "    }\n",
       "</style>\n",
       "<table border=\"1\" class=\"dataframe\">\n",
       "  <thead>\n",
       "    <tr style=\"text-align: right;\">\n",
       "      <th></th>\n",
       "      <th>sentences</th>\n",
       "      <th>lower_sentences</th>\n",
       "      <th>punctuation_removed</th>\n",
       "      <th>numbers_removed</th>\n",
       "      <th>stopwords_removed</th>\n",
       "      <th>tokenized</th>\n",
       "    </tr>\n",
       "  </thead>\n",
       "  <tbody>\n",
       "    <tr>\n",
       "      <th>1</th>\n",
       "      <td>Chris Stark, head of the UK's Climate Change Committee, told the BBC he rates government policy on insulation as \"very poor\".</td>\n",
       "      <td>chris stark, head of the uk's climate change committee, told the bbc he rates government policy on insulation as \"very poor\".</td>\n",
       "      <td>chris stark head of the uks climate change committee told the bbc he rates government policy on insulation as very poor</td>\n",
       "      <td>chris stark head of the uks climate change committee told the bbc he rates government policy on insulation as very poor</td>\n",
       "      <td>chris stark head uks climate change committee told bbc rates government policy insulation poor</td>\n",
       "      <td>[chris, stark, head, uks, climate, change, committee, told, bbc, rates, government, policy, insulation, poor]</td>\n",
       "    </tr>\n",
       "    <tr>\n",
       "      <th>2</th>\n",
       "      <td>Insulation, together with renewable power, is the way out of the current energy crisis, he says.</td>\n",
       "      <td>insulation, together with renewable power, is the way out of the current energy crisis, he says.</td>\n",
       "      <td>insulation together with renewable power is the way out of the current energy crisis he says</td>\n",
       "      <td>insulation together with renewable power is the way out of the current energy crisis he says</td>\n",
       "      <td>insulation together renewable power way current energy crisis says</td>\n",
       "      <td>[insulation, together, renewable, power, way, current, energy, crisis, says]</td>\n",
       "    </tr>\n",
       "    <tr>\n",
       "      <th>3</th>\n",
       "      <td>Two-thirds of homes, or 19 million, need better insulation, according to government data.</td>\n",
       "      <td>two-thirds of homes, or 19 million, need better insulation, according to government data.</td>\n",
       "      <td>twothirds of homes or 19 million need better insulation according to government data</td>\n",
       "      <td>twothirds of homes or  million need better insulation according to government data</td>\n",
       "      <td>twothirds homes million need better insulation according government data</td>\n",
       "      <td>[twothirds, homes, million, need, better, insulation, according, government, data]</td>\n",
       "    </tr>\n",
       "  </tbody>\n",
       "</table>\n",
       "</div>"
      ],
      "text/plain": [
       "                                                                                                                       sentences                                                                                                                lower_sentences                                                                                                      punctuation_removed                                                                                                          numbers_removed                                                                               stopwords_removed                                                                                                      tokenized\n",
       "1  Chris Stark, head of the UK's Climate Change Committee, told the BBC he rates government policy on insulation as \"very poor\".  chris stark, head of the uk's climate change committee, told the bbc he rates government policy on insulation as \"very poor\".  chris stark head of the uks climate change committee told the bbc he rates government policy on insulation as very poor  chris stark head of the uks climate change committee told the bbc he rates government policy on insulation as very poor  chris stark head uks climate change committee told bbc rates government policy insulation poor  [chris, stark, head, uks, climate, change, committee, told, bbc, rates, government, policy, insulation, poor]\n",
       "2  Insulation, together with renewable power, is the way out of the current energy crisis, he says.                               insulation, together with renewable power, is the way out of the current energy crisis, he says.                               insulation together with renewable power is the way out of the current energy crisis he says                             insulation together with renewable power is the way out of the current energy crisis he says                             insulation together renewable power way current energy crisis says                              [insulation, together, renewable, power, way, current, energy, crisis, says]                                 \n",
       "3  Two-thirds of homes, or 19 million, need better insulation, according to government data.                                      two-thirds of homes, or 19 million, need better insulation, according to government data.                                      twothirds of homes or 19 million need better insulation according to government data                                     twothirds of homes or  million need better insulation according to government data                                       twothirds homes million need better insulation according government data                        [twothirds, homes, million, need, better, insulation, according, government, data]                           "
      ]
     },
     "execution_count": 66,
     "metadata": {},
     "output_type": "execute_result"
    }
   ],
   "source": [
    "tdf[\"tokenized\"] = tdf[\"stopwords_removed\"].apply(lambda x: TextBlob(x).words)\n",
    "tdf.head(3)"
   ]
  },
  {
   "cell_type": "code",
   "execution_count": 67,
   "id": "931a9a35",
   "metadata": {},
   "outputs": [
    {
     "data": {
      "text/html": [
       "<div>\n",
       "<style scoped>\n",
       "    .dataframe tbody tr th:only-of-type {\n",
       "        vertical-align: middle;\n",
       "    }\n",
       "\n",
       "    .dataframe tbody tr th {\n",
       "        vertical-align: top;\n",
       "    }\n",
       "\n",
       "    .dataframe thead th {\n",
       "        text-align: right;\n",
       "    }\n",
       "</style>\n",
       "<table border=\"1\" class=\"dataframe\">\n",
       "  <thead>\n",
       "    <tr style=\"text-align: right;\">\n",
       "      <th></th>\n",
       "      <th>sentences</th>\n",
       "      <th>sentences_punctuation</th>\n",
       "    </tr>\n",
       "  </thead>\n",
       "  <tbody>\n",
       "    <tr>\n",
       "      <th>1</th>\n",
       "      <td>Chris Stark, head of the UK's Climate Change Committee, told the BBC he rates government policy on insulation as \"very poor\".</td>\n",
       "      <td>Chris Stark head of the UKs Climate Change Committee told the BBC he rates government policy on insulation as very poor</td>\n",
       "    </tr>\n",
       "    <tr>\n",
       "      <th>2</th>\n",
       "      <td>Insulation, together with renewable power, is the way out of the current energy crisis, he says.</td>\n",
       "      <td>Insulation together with renewable power is the way out of the current energy crisis he says</td>\n",
       "    </tr>\n",
       "    <tr>\n",
       "      <th>3</th>\n",
       "      <td>Two-thirds of homes, or 19 million, need better insulation, according to government data.</td>\n",
       "      <td>Twothirds of homes or 19 million need better insulation according to government data</td>\n",
       "    </tr>\n",
       "    <tr>\n",
       "      <th>4</th>\n",
       "      <td>That raises an obvious question: if it is such a good idea, why aren't we all doing it?</td>\n",
       "      <td>That raises an obvious question if it is such a good idea why arent we all doing it</td>\n",
       "    </tr>\n",
       "    <tr>\n",
       "      <th>5</th>\n",
       "      <td>The key issue is the cost.</td>\n",
       "      <td>The key issue is the cost</td>\n",
       "    </tr>\n",
       "  </tbody>\n",
       "</table>\n",
       "</div>"
      ],
      "text/plain": [
       "                                                                                                                       sentences                                                                                                    sentences_punctuation\n",
       "1  Chris Stark, head of the UK's Climate Change Committee, told the BBC he rates government policy on insulation as \"very poor\".  Chris Stark head of the UKs Climate Change Committee told the BBC he rates government policy on insulation as very poor\n",
       "2  Insulation, together with renewable power, is the way out of the current energy crisis, he says.                               Insulation together with renewable power is the way out of the current energy crisis he says                           \n",
       "3  Two-thirds of homes, or 19 million, need better insulation, according to government data.                                      Twothirds of homes or 19 million need better insulation according to government data                                   \n",
       "4  That raises an obvious question: if it is such a good idea, why aren't we all doing it?                                        That raises an obvious question if it is such a good idea why arent we all doing it                                    \n",
       "5  The key issue is the cost.                                                                                                     The key issue is the cost                                                                                              "
      ]
     },
     "execution_count": 67,
     "metadata": {},
     "output_type": "execute_result"
    }
   ],
   "source": [
    "text_df_backup.head()"
   ]
  },
  {
   "cell_type": "code",
   "execution_count": 69,
   "id": "e7e84b60",
   "metadata": {},
   "outputs": [
    {
     "data": {
      "text/html": [
       "<div>\n",
       "<style scoped>\n",
       "    .dataframe tbody tr th:only-of-type {\n",
       "        vertical-align: middle;\n",
       "    }\n",
       "\n",
       "    .dataframe tbody tr th {\n",
       "        vertical-align: top;\n",
       "    }\n",
       "\n",
       "    .dataframe thead th {\n",
       "        text-align: right;\n",
       "    }\n",
       "</style>\n",
       "<table border=\"1\" class=\"dataframe\">\n",
       "  <thead>\n",
       "    <tr style=\"text-align: right;\">\n",
       "      <th></th>\n",
       "      <th>sentences</th>\n",
       "      <th>sentences_punctuation</th>\n",
       "      <th>tokenized</th>\n",
       "    </tr>\n",
       "  </thead>\n",
       "  <tbody>\n",
       "    <tr>\n",
       "      <th>1</th>\n",
       "      <td>Chris Stark, head of the UK's Climate Change Committee, told the BBC he rates government policy on insulation as \"very poor\".</td>\n",
       "      <td>Chris Stark head of the UKs Climate Change Committee told the BBC he rates government policy on insulation as very poor</td>\n",
       "      <td>[Chris, Stark, head, of, the, UKs, Climate, Change, Committee, told, the, BBC, he, rates, government, policy, on, insulation, as, very, poor]</td>\n",
       "    </tr>\n",
       "    <tr>\n",
       "      <th>2</th>\n",
       "      <td>Insulation, together with renewable power, is the way out of the current energy crisis, he says.</td>\n",
       "      <td>Insulation together with renewable power is the way out of the current energy crisis he says</td>\n",
       "      <td>[Insulation, together, with, renewable, power, is, the, way, out, of, the, current, energy, crisis, he, says]</td>\n",
       "    </tr>\n",
       "    <tr>\n",
       "      <th>3</th>\n",
       "      <td>Two-thirds of homes, or 19 million, need better insulation, according to government data.</td>\n",
       "      <td>Twothirds of homes or 19 million need better insulation according to government data</td>\n",
       "      <td>[Twothirds, of, homes, or, 19, million, need, better, insulation, according, to, government, data]</td>\n",
       "    </tr>\n",
       "    <tr>\n",
       "      <th>4</th>\n",
       "      <td>That raises an obvious question: if it is such a good idea, why aren't we all doing it?</td>\n",
       "      <td>That raises an obvious question if it is such a good idea why arent we all doing it</td>\n",
       "      <td>[That, raises, an, obvious, question, if, it, is, such, a, good, idea, why, arent, we, all, doing, it]</td>\n",
       "    </tr>\n",
       "    <tr>\n",
       "      <th>5</th>\n",
       "      <td>The key issue is the cost.</td>\n",
       "      <td>The key issue is the cost</td>\n",
       "      <td>[The, key, issue, is, the, cost]</td>\n",
       "    </tr>\n",
       "  </tbody>\n",
       "</table>\n",
       "</div>"
      ],
      "text/plain": [
       "                                                                                                                       sentences                                                                                                    sentences_punctuation                                                                                                                                      tokenized\n",
       "1  Chris Stark, head of the UK's Climate Change Committee, told the BBC he rates government policy on insulation as \"very poor\".  Chris Stark head of the UKs Climate Change Committee told the BBC he rates government policy on insulation as very poor  [Chris, Stark, head, of, the, UKs, Climate, Change, Committee, told, the, BBC, he, rates, government, policy, on, insulation, as, very, poor]\n",
       "2  Insulation, together with renewable power, is the way out of the current energy crisis, he says.                               Insulation together with renewable power is the way out of the current energy crisis he says                             [Insulation, together, with, renewable, power, is, the, way, out, of, the, current, energy, crisis, he, says]                                \n",
       "3  Two-thirds of homes, or 19 million, need better insulation, according to government data.                                      Twothirds of homes or 19 million need better insulation according to government data                                     [Twothirds, of, homes, or, 19, million, need, better, insulation, according, to, government, data]                                           \n",
       "4  That raises an obvious question: if it is such a good idea, why aren't we all doing it?                                        That raises an obvious question if it is such a good idea why arent we all doing it                                      [That, raises, an, obvious, question, if, it, is, such, a, good, idea, why, arent, we, all, doing, it]                                       \n",
       "5  The key issue is the cost.                                                                                                     The key issue is the cost                                                                                                [The, key, issue, is, the, cost]                                                                                                             "
      ]
     },
     "execution_count": 69,
     "metadata": {},
     "output_type": "execute_result"
    }
   ],
   "source": [
    "text_df_backup['tokenized']= text_df_backup['sentences_punctuation'].apply(lambda text: re.split(' ',text))\n",
    "text_df_backup.head()"
   ]
  },
  {
   "cell_type": "markdown",
   "id": "f109d61c",
   "metadata": {},
   "source": [
    "#### Stemming"
   ]
  },
  {
   "cell_type": "code",
   "execution_count": 71,
   "id": "c578b64d",
   "metadata": {},
   "outputs": [
    {
     "data": {
      "text/html": [
       "<div>\n",
       "<style scoped>\n",
       "    .dataframe tbody tr th:only-of-type {\n",
       "        vertical-align: middle;\n",
       "    }\n",
       "\n",
       "    .dataframe tbody tr th {\n",
       "        vertical-align: top;\n",
       "    }\n",
       "\n",
       "    .dataframe thead th {\n",
       "        text-align: right;\n",
       "    }\n",
       "</style>\n",
       "<table border=\"1\" class=\"dataframe\">\n",
       "  <thead>\n",
       "    <tr style=\"text-align: right;\">\n",
       "      <th></th>\n",
       "      <th>sentences</th>\n",
       "      <th>lower_sentences</th>\n",
       "      <th>punctuation_removed</th>\n",
       "      <th>numbers_removed</th>\n",
       "      <th>stopwords_removed</th>\n",
       "      <th>tokenized</th>\n",
       "    </tr>\n",
       "  </thead>\n",
       "  <tbody>\n",
       "    <tr>\n",
       "      <th>1</th>\n",
       "      <td>Chris Stark, head of the UK's Climate Change Committee, told the BBC he rates government policy on insulation as \"very poor\".</td>\n",
       "      <td>chris stark, head of the uk's climate change committee, told the bbc he rates government policy on insulation as \"very poor\".</td>\n",
       "      <td>chris stark head of the uks climate change committee told the bbc he rates government policy on insulation as very poor</td>\n",
       "      <td>chris stark head of the uks climate change committee told the bbc he rates government policy on insulation as very poor</td>\n",
       "      <td>chris stark head uks climate change committee told bbc rates government policy insulation poor</td>\n",
       "      <td>[chris, stark, head, uks, climate, change, committee, told, bbc, rates, government, policy, insulation, poor]</td>\n",
       "    </tr>\n",
       "    <tr>\n",
       "      <th>2</th>\n",
       "      <td>Insulation, together with renewable power, is the way out of the current energy crisis, he says.</td>\n",
       "      <td>insulation, together with renewable power, is the way out of the current energy crisis, he says.</td>\n",
       "      <td>insulation together with renewable power is the way out of the current energy crisis he says</td>\n",
       "      <td>insulation together with renewable power is the way out of the current energy crisis he says</td>\n",
       "      <td>insulation together renewable power way current energy crisis says</td>\n",
       "      <td>[insulation, together, renewable, power, way, current, energy, crisis, says]</td>\n",
       "    </tr>\n",
       "    <tr>\n",
       "      <th>3</th>\n",
       "      <td>Two-thirds of homes, or 19 million, need better insulation, according to government data.</td>\n",
       "      <td>two-thirds of homes, or 19 million, need better insulation, according to government data.</td>\n",
       "      <td>twothirds of homes or 19 million need better insulation according to government data</td>\n",
       "      <td>twothirds of homes or  million need better insulation according to government data</td>\n",
       "      <td>twothirds homes million need better insulation according government data</td>\n",
       "      <td>[twothirds, homes, million, need, better, insulation, according, government, data]</td>\n",
       "    </tr>\n",
       "  </tbody>\n",
       "</table>\n",
       "</div>"
      ],
      "text/plain": [
       "                                                                                                                       sentences                                                                                                                lower_sentences                                                                                                      punctuation_removed                                                                                                          numbers_removed                                                                               stopwords_removed                                                                                                      tokenized\n",
       "1  Chris Stark, head of the UK's Climate Change Committee, told the BBC he rates government policy on insulation as \"very poor\".  chris stark, head of the uk's climate change committee, told the bbc he rates government policy on insulation as \"very poor\".  chris stark head of the uks climate change committee told the bbc he rates government policy on insulation as very poor  chris stark head of the uks climate change committee told the bbc he rates government policy on insulation as very poor  chris stark head uks climate change committee told bbc rates government policy insulation poor  [chris, stark, head, uks, climate, change, committee, told, bbc, rates, government, policy, insulation, poor]\n",
       "2  Insulation, together with renewable power, is the way out of the current energy crisis, he says.                               insulation, together with renewable power, is the way out of the current energy crisis, he says.                               insulation together with renewable power is the way out of the current energy crisis he says                             insulation together with renewable power is the way out of the current energy crisis he says                             insulation together renewable power way current energy crisis says                              [insulation, together, renewable, power, way, current, energy, crisis, says]                                 \n",
       "3  Two-thirds of homes, or 19 million, need better insulation, according to government data.                                      two-thirds of homes, or 19 million, need better insulation, according to government data.                                      twothirds of homes or 19 million need better insulation according to government data                                     twothirds of homes or  million need better insulation according to government data                                       twothirds homes million need better insulation according government data                        [twothirds, homes, million, need, better, insulation, according, government, data]                           "
      ]
     },
     "execution_count": 71,
     "metadata": {},
     "output_type": "execute_result"
    }
   ],
   "source": [
    "tdf.head(3)"
   ]
  },
  {
   "cell_type": "code",
   "execution_count": 72,
   "id": "5fbde3d8",
   "metadata": {},
   "outputs": [],
   "source": [
    "st = PorterStemmer()"
   ]
  },
  {
   "cell_type": "code",
   "execution_count": 74,
   "id": "adc6ae53",
   "metadata": {},
   "outputs": [
    {
     "data": {
      "text/html": [
       "<div>\n",
       "<style scoped>\n",
       "    .dataframe tbody tr th:only-of-type {\n",
       "        vertical-align: middle;\n",
       "    }\n",
       "\n",
       "    .dataframe tbody tr th {\n",
       "        vertical-align: top;\n",
       "    }\n",
       "\n",
       "    .dataframe thead th {\n",
       "        text-align: right;\n",
       "    }\n",
       "</style>\n",
       "<table border=\"1\" class=\"dataframe\">\n",
       "  <thead>\n",
       "    <tr style=\"text-align: right;\">\n",
       "      <th></th>\n",
       "      <th>sentences</th>\n",
       "      <th>lower_sentences</th>\n",
       "      <th>punctuation_removed</th>\n",
       "      <th>numbers_removed</th>\n",
       "      <th>stopwords_removed</th>\n",
       "      <th>tokenized</th>\n",
       "      <th>stemmed</th>\n",
       "    </tr>\n",
       "  </thead>\n",
       "  <tbody>\n",
       "    <tr>\n",
       "      <th>1</th>\n",
       "      <td>Chris Stark, head of the UK's Climate Change Committee, told the BBC he rates government policy on insulation as \"very poor\".</td>\n",
       "      <td>chris stark, head of the uk's climate change committee, told the bbc he rates government policy on insulation as \"very poor\".</td>\n",
       "      <td>chris stark head of the uks climate change committee told the bbc he rates government policy on insulation as very poor</td>\n",
       "      <td>chris stark head of the uks climate change committee told the bbc he rates government policy on insulation as very poor</td>\n",
       "      <td>chris stark head uks climate change committee told bbc rates government policy insulation poor</td>\n",
       "      <td>[chris, stark, head, uks, climate, change, committee, told, bbc, rates, government, policy, insulation, poor]</td>\n",
       "      <td>chri stark head uk climat chang committe told bbc rate govern polici insul poor</td>\n",
       "    </tr>\n",
       "    <tr>\n",
       "      <th>2</th>\n",
       "      <td>Insulation, together with renewable power, is the way out of the current energy crisis, he says.</td>\n",
       "      <td>insulation, together with renewable power, is the way out of the current energy crisis, he says.</td>\n",
       "      <td>insulation together with renewable power is the way out of the current energy crisis he says</td>\n",
       "      <td>insulation together with renewable power is the way out of the current energy crisis he says</td>\n",
       "      <td>insulation together renewable power way current energy crisis says</td>\n",
       "      <td>[insulation, together, renewable, power, way, current, energy, crisis, says]</td>\n",
       "      <td>insul togeth renew power way current energi crisi say</td>\n",
       "    </tr>\n",
       "    <tr>\n",
       "      <th>3</th>\n",
       "      <td>Two-thirds of homes, or 19 million, need better insulation, according to government data.</td>\n",
       "      <td>two-thirds of homes, or 19 million, need better insulation, according to government data.</td>\n",
       "      <td>twothirds of homes or 19 million need better insulation according to government data</td>\n",
       "      <td>twothirds of homes or  million need better insulation according to government data</td>\n",
       "      <td>twothirds homes million need better insulation according government data</td>\n",
       "      <td>[twothirds, homes, million, need, better, insulation, according, government, data]</td>\n",
       "      <td>twothird home million need better insul accord govern data</td>\n",
       "    </tr>\n",
       "  </tbody>\n",
       "</table>\n",
       "</div>"
      ],
      "text/plain": [
       "                                                                                                                       sentences                                                                                                                lower_sentences                                                                                                      punctuation_removed                                                                                                          numbers_removed                                                                               stopwords_removed                                                                                                      tokenized                                                                          stemmed\n",
       "1  Chris Stark, head of the UK's Climate Change Committee, told the BBC he rates government policy on insulation as \"very poor\".  chris stark, head of the uk's climate change committee, told the bbc he rates government policy on insulation as \"very poor\".  chris stark head of the uks climate change committee told the bbc he rates government policy on insulation as very poor  chris stark head of the uks climate change committee told the bbc he rates government policy on insulation as very poor  chris stark head uks climate change committee told bbc rates government policy insulation poor  [chris, stark, head, uks, climate, change, committee, told, bbc, rates, government, policy, insulation, poor]  chri stark head uk climat chang committe told bbc rate govern polici insul poor\n",
       "2  Insulation, together with renewable power, is the way out of the current energy crisis, he says.                               insulation, together with renewable power, is the way out of the current energy crisis, he says.                               insulation together with renewable power is the way out of the current energy crisis he says                             insulation together with renewable power is the way out of the current energy crisis he says                             insulation together renewable power way current energy crisis says                              [insulation, together, renewable, power, way, current, energy, crisis, says]                                   insul togeth renew power way current energi crisi say                          \n",
       "3  Two-thirds of homes, or 19 million, need better insulation, according to government data.                                      two-thirds of homes, or 19 million, need better insulation, according to government data.                                      twothirds of homes or 19 million need better insulation according to government data                                     twothirds of homes or  million need better insulation according to government data                                       twothirds homes million need better insulation according government data                        [twothirds, homes, million, need, better, insulation, according, government, data]                             twothird home million need better insul accord govern data                     "
      ]
     },
     "execution_count": 74,
     "metadata": {},
     "output_type": "execute_result"
    }
   ],
   "source": [
    "tdf[\"stemmed\"] = tdf[\"stopwords_removed\"].apply(lambda x: \" \".join([st.stem(word) for word in x.split()]))\n",
    "tdf.head(3)"
   ]
  },
  {
   "cell_type": "markdown",
   "id": "ce901eb6",
   "metadata": {},
   "source": [
    "#### Lemmatization"
   ]
  },
  {
   "cell_type": "code",
   "execution_count": 75,
   "id": "2f477249",
   "metadata": {},
   "outputs": [
    {
     "data": {
      "text/html": [
       "<div>\n",
       "<style scoped>\n",
       "    .dataframe tbody tr th:only-of-type {\n",
       "        vertical-align: middle;\n",
       "    }\n",
       "\n",
       "    .dataframe tbody tr th {\n",
       "        vertical-align: top;\n",
       "    }\n",
       "\n",
       "    .dataframe thead th {\n",
       "        text-align: right;\n",
       "    }\n",
       "</style>\n",
       "<table border=\"1\" class=\"dataframe\">\n",
       "  <thead>\n",
       "    <tr style=\"text-align: right;\">\n",
       "      <th></th>\n",
       "      <th>sentences</th>\n",
       "      <th>lower_sentences</th>\n",
       "      <th>punctuation_removed</th>\n",
       "      <th>numbers_removed</th>\n",
       "      <th>stopwords_removed</th>\n",
       "      <th>tokenized</th>\n",
       "      <th>stemmed</th>\n",
       "      <th>lemmatized</th>\n",
       "    </tr>\n",
       "  </thead>\n",
       "  <tbody>\n",
       "    <tr>\n",
       "      <th>1</th>\n",
       "      <td>Chris Stark, head of the UK's Climate Change Committee, told the BBC he rates government policy on insulation as \"very poor\".</td>\n",
       "      <td>chris stark, head of the uk's climate change committee, told the bbc he rates government policy on insulation as \"very poor\".</td>\n",
       "      <td>chris stark head of the uks climate change committee told the bbc he rates government policy on insulation as very poor</td>\n",
       "      <td>chris stark head of the uks climate change committee told the bbc he rates government policy on insulation as very poor</td>\n",
       "      <td>chris stark head uks climate change committee told bbc rates government policy insulation poor</td>\n",
       "      <td>[chris, stark, head, uks, climate, change, committee, told, bbc, rates, government, policy, insulation, poor]</td>\n",
       "      <td>chri stark head uk climat chang committe told bbc rate govern polici insul poor</td>\n",
       "      <td>chris stark head uk climate change committee told bbc rate government policy insulation poor</td>\n",
       "    </tr>\n",
       "    <tr>\n",
       "      <th>2</th>\n",
       "      <td>Insulation, together with renewable power, is the way out of the current energy crisis, he says.</td>\n",
       "      <td>insulation, together with renewable power, is the way out of the current energy crisis, he says.</td>\n",
       "      <td>insulation together with renewable power is the way out of the current energy crisis he says</td>\n",
       "      <td>insulation together with renewable power is the way out of the current energy crisis he says</td>\n",
       "      <td>insulation together renewable power way current energy crisis says</td>\n",
       "      <td>[insulation, together, renewable, power, way, current, energy, crisis, says]</td>\n",
       "      <td>insul togeth renew power way current energi crisi say</td>\n",
       "      <td>insulation together renewable power way current energy crisis say</td>\n",
       "    </tr>\n",
       "    <tr>\n",
       "      <th>3</th>\n",
       "      <td>Two-thirds of homes, or 19 million, need better insulation, according to government data.</td>\n",
       "      <td>two-thirds of homes, or 19 million, need better insulation, according to government data.</td>\n",
       "      <td>twothirds of homes or 19 million need better insulation according to government data</td>\n",
       "      <td>twothirds of homes or  million need better insulation according to government data</td>\n",
       "      <td>twothirds homes million need better insulation according government data</td>\n",
       "      <td>[twothirds, homes, million, need, better, insulation, according, government, data]</td>\n",
       "      <td>twothird home million need better insul accord govern data</td>\n",
       "      <td>twothirds home million need better insulation according government data</td>\n",
       "    </tr>\n",
       "  </tbody>\n",
       "</table>\n",
       "</div>"
      ],
      "text/plain": [
       "                                                                                                                       sentences                                                                                                                lower_sentences                                                                                                      punctuation_removed                                                                                                          numbers_removed                                                                               stopwords_removed                                                                                                      tokenized                                                                          stemmed                                                                                    lemmatized\n",
       "1  Chris Stark, head of the UK's Climate Change Committee, told the BBC he rates government policy on insulation as \"very poor\".  chris stark, head of the uk's climate change committee, told the bbc he rates government policy on insulation as \"very poor\".  chris stark head of the uks climate change committee told the bbc he rates government policy on insulation as very poor  chris stark head of the uks climate change committee told the bbc he rates government policy on insulation as very poor  chris stark head uks climate change committee told bbc rates government policy insulation poor  [chris, stark, head, uks, climate, change, committee, told, bbc, rates, government, policy, insulation, poor]  chri stark head uk climat chang committe told bbc rate govern polici insul poor  chris stark head uk climate change committee told bbc rate government policy insulation poor\n",
       "2  Insulation, together with renewable power, is the way out of the current energy crisis, he says.                               insulation, together with renewable power, is the way out of the current energy crisis, he says.                               insulation together with renewable power is the way out of the current energy crisis he says                             insulation together with renewable power is the way out of the current energy crisis he says                             insulation together renewable power way current energy crisis says                              [insulation, together, renewable, power, way, current, energy, crisis, says]                                   insul togeth renew power way current energi crisi say                            insulation together renewable power way current energy crisis say                           \n",
       "3  Two-thirds of homes, or 19 million, need better insulation, according to government data.                                      two-thirds of homes, or 19 million, need better insulation, according to government data.                                      twothirds of homes or 19 million need better insulation according to government data                                     twothirds of homes or  million need better insulation according to government data                                       twothirds homes million need better insulation according government data                        [twothirds, homes, million, need, better, insulation, according, government, data]                             twothird home million need better insul accord govern data                       twothirds home million need better insulation according government data                     "
      ]
     },
     "execution_count": 75,
     "metadata": {},
     "output_type": "execute_result"
    }
   ],
   "source": [
    "tdf[\"lemmatized\"] = tdf[\"stopwords_removed\"].apply(lambda text: \" \".join([Word(word).lemmatize() \n",
    "                                                                          for word in text.split()]))\n",
    "tdf.head(3)"
   ]
  },
  {
   "cell_type": "markdown",
   "id": "c7b0a7f3",
   "metadata": {},
   "source": [
    "#### We can also use WordNetLemmatizer() function of nltk"
   ]
  },
  {
   "cell_type": "code",
   "execution_count": 76,
   "id": "69e3fa9d",
   "metadata": {},
   "outputs": [],
   "source": [
    "wordnet_lemmatizer = WordNetLemmatizer()"
   ]
  },
  {
   "cell_type": "code",
   "execution_count": 77,
   "id": "de4fc8b1",
   "metadata": {},
   "outputs": [
    {
     "data": {
      "text/plain": [
       "1    chris stark head uk climate change committee told bbc rate government policy insulation poor                                                                                              \n",
       "2    insulation together renewable power way current energy crisis say                                                                                                                         \n",
       "3    twothirds home million need better insulation according government data                                                                                                                   \n",
       "4    raise obvious question good idea arent                                                                                                                                                    \n",
       "5    key issue cost                                                                                                                                                                            \n",
       "6    britain frequently described oldest least energy efficient housing europe retrofitting adding insulation existing home expensive mr stark say government isnt enough help fund costly work\n",
       "Name: stopwords_removed, dtype: object"
      ]
     },
     "execution_count": 77,
     "metadata": {},
     "output_type": "execute_result"
    }
   ],
   "source": [
    "tdf[\"stopwords_removed\"].apply(lambda text: \" \".join([wordnet_lemmatizer.lemmatize(word)\n",
    "                                                                          for word in text.split()]))"
   ]
  },
  {
   "cell_type": "markdown",
   "id": "d532b5ab",
   "metadata": {},
   "source": [
    "## THANK YOU"
   ]
  },
  {
   "cell_type": "code",
   "execution_count": null,
   "id": "0f4e9aff",
   "metadata": {},
   "outputs": [],
   "source": []
  }
 ],
 "metadata": {
  "kernelspec": {
   "display_name": "Python 3 (ipykernel)",
   "language": "python",
   "name": "python3"
  },
  "language_info": {
   "codemirror_mode": {
    "name": "ipython",
    "version": 3
   },
   "file_extension": ".py",
   "mimetype": "text/x-python",
   "name": "python",
   "nbconvert_exporter": "python",
   "pygments_lexer": "ipython3",
   "version": "3.9.13"
  }
 },
 "nbformat": 4,
 "nbformat_minor": 5
}
